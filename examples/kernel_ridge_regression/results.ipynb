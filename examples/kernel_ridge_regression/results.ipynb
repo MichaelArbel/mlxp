{
 "cells": [
  {
   "cell_type": "code",
   "execution_count": 11,
   "id": "6eaa21dc",
   "metadata": {},
   "outputs": [],
   "source": [
    "import os\n",
    "import matplotlib.pyplot as plt\n",
    "import seaborn as sns\n",
    "import experimentalist as expy\n"
   ]
  },
  {
   "cell_type": "code",
   "execution_count": 12,
   "id": "cfb84015",
   "metadata": {},
   "outputs": [],
   "source": [
    "def make_plot_dicts(methods,key_name):\n",
    "    \n",
    "    labels = {m: key_name +' ' +m  for m in methods}\n",
    "    colors = sns.color_palette(\"colorblind\", n_colors=len(methods), desat=.7)\n",
    "    sns.palplot(colors)\n",
    "    color_dict_index = {m:i for i,m in enumerate(methods)}\n",
    "    color_dict = {key:colors[value] for key,value in color_dict_index.items()}\n",
    "    linestyles = {m:'-' for m in methods}\n",
    "    return color_dict,labels,linestyles, colors"
   ]
  },
  {
   "cell_type": "markdown",
   "id": "29f5e32b",
   "metadata": {},
   "source": [
    "# Querying a database"
   ]
  },
  {
   "cell_type": "code",
   "execution_count": 13,
   "id": "f0388b88",
   "metadata": {},
   "outputs": [],
   "source": [
    "log_name = 'test'\n",
    "out_dir = 'data/outputs'\n",
    "reader = expy.Reader(os.path.join(out_dir,log_name), reload=True)\n",
    "\n",
    "query = {'metadata.max_iter' : [100],\n",
    "        }\n",
    "\n",
    "out =  reader.search(query)\n"
   ]
  },
  {
   "cell_type": "markdown",
   "id": "cd3e7341",
   "metadata": {},
   "source": [
    "# Adding data to the query output"
   ]
  },
  {
   "cell_type": "code",
   "execution_count": 18,
   "id": "c48bb55c",
   "metadata": {},
   "outputs": [
    {
     "data": {
      "text/plain": [
       "'metadata.metrics.loss_last'"
      ]
     },
     "execution_count": 18,
     "metadata": {},
     "output_type": "execute_result"
    }
   ],
   "source": [
    "last_loss = expy.maps.Last(\"metrics.loss\") # get the name of the key\n",
    "out.add([last_loss]) # return name of key\n",
    "last_loss.name"
   ]
  },
  {
   "cell_type": "markdown",
   "id": "1ca7ee8f",
   "metadata": {},
   "source": [
    "# Grouping and aggregation"
   ]
  },
  {
   "cell_type": "code",
   "execution_count": 19,
   "id": "bb2d11f8",
   "metadata": {},
   "outputs": [],
   "source": [
    "\n",
    "\n",
    "aggmin = expy.maps.AggMin(last_loss.name)\n",
    "\n",
    "aggmaps = [aggmin,\n",
    "           expy.maps.AggMax(last_loss.name)]\n",
    "group_keys = [['metadata.optimizer.name']]\n",
    "\n",
    "all_list_config_dicts = out.groupBy(group_keys).agg(aggmaps).toConfigCollection()\n",
    "\n",
    "\n",
    "\n"
   ]
  },
  {
   "cell_type": "code",
   "execution_count": 26,
   "id": "c5cc3b71",
   "metadata": {},
   "outputs": [
    {
     "data": {
      "text/plain": [
       "<experimentalist.collections.ConfigCollection at 0x7fa83757d2b0>"
      ]
     },
     "execution_count": 26,
     "metadata": {},
     "output_type": "execute_result"
    }
   ],
   "source": [
    "list_config_dicts = all_list_config_dicts[aggmin.name]\n",
    "\n",
    "aggmaps = [expy.maps.AggAvgStd(\"metrics.loss\")\n",
    "        ,\"metrics.iteration\"]\n",
    "\n",
    "list_config_dicts.add(aggmaps)\n"
   ]
  },
  {
   "cell_type": "code",
   "execution_count": 20,
   "id": "6c7b609e",
   "metadata": {},
   "outputs": [
    {
     "data": {
      "text/plain": [
       "{'metadata.metrics.loss_last_aggmin': <experimentalist.collections.ConfigCollection at 0x7fa83757d2b0>,\n",
       " 'metadata.metrics.loss_last_aggmax': <experimentalist.collections.ConfigCollection at 0x7fa83755c7f0>}"
      ]
     },
     "execution_count": 20,
     "metadata": {},
     "output_type": "execute_result"
    }
   ],
   "source": [
    "all_list_config_dicts"
   ]
  },
  {
   "cell_type": "markdown",
   "id": "7e55fed0",
   "metadata": {},
   "source": [
    "# Extracting results from list of (aggregated) experiments"
   ]
  },
  {
   "cell_type": "code",
   "execution_count": 16,
   "id": "cfa3d4f2",
   "metadata": {},
   "outputs": [
    {
     "data": {
      "image/png": "[encoded data removed]",
      "text/plain": [
       "<Figure size 144x72 with 1 Axes>"
      ]
     },
     "metadata": {
      "needs_background": "light"
     },
     "output_type": "display_data"
    }
   ],
   "source": [
    "values_list = [\"metrics.loss_avg\",\n",
    "            \"metrics.iteration\",\n",
    "            \"group_keys_val\",\n",
    "            \"group_keys\"]\n",
    "gen_list = list_config_dicts.get(values_list)\n",
    "methods = [data['group_keys_val'] for data in gen_list]\n",
    "key_name = gen_list[0]['group_keys']+':'\n",
    "color_dict, labels_dict, linestyles_dict,colors = make_plot_dicts(methods,key_name)\n"
   ]
  },
  {
   "cell_type": "code",
   "execution_count": 28,
   "id": "d63a1806",
   "metadata": {},
   "outputs": [
    {
     "data": {
      "text/plain": [
       "'name:'"
      ]
     },
     "execution_count": 28,
     "metadata": {},
     "output_type": "execute_result"
    }
   ],
   "source": [
    "key_name"
   ]
  },
  {
   "cell_type": "code",
   "execution_count": 32,
   "id": "4e50947b",
   "metadata": {},
   "outputs": [
    {
     "data": {
      "text/plain": [
       "{'metrics.loss_avg': [0,\n",
       "  3,\n",
       "  6,\n",
       "  9,\n",
       "  12,\n",
       "  15,\n",
       "  18,\n",
       "  21,\n",
       "  24,\n",
       "  27,\n",
       "  30,\n",
       "  33,\n",
       "  36,\n",
       "  39,\n",
       "  42,\n",
       "  45,\n",
       "  48,\n",
       "  51,\n",
       "  54,\n",
       "  57,\n",
       "  60,\n",
       "  63,\n",
       "  66,\n",
       "  69,\n",
       "  72,\n",
       "  75,\n",
       "  78,\n",
       "  81,\n",
       "  84,\n",
       "  87,\n",
       "  90,\n",
       "  93,\n",
       "  96,\n",
       "  99,\n",
       "  102,\n",
       "  105,\n",
       "  108,\n",
       "  111,\n",
       "  114,\n",
       "  117,\n",
       "  120,\n",
       "  123,\n",
       "  126,\n",
       "  129,\n",
       "  132,\n",
       "  135,\n",
       "  138,\n",
       "  141,\n",
       "  144,\n",
       "  147,\n",
       "  150,\n",
       "  153,\n",
       "  156,\n",
       "  159,\n",
       "  162,\n",
       "  165,\n",
       "  168,\n",
       "  171,\n",
       "  174,\n",
       "  177,\n",
       "  180,\n",
       "  183,\n",
       "  186,\n",
       "  189,\n",
       "  192,\n",
       "  195,\n",
       "  198,\n",
       "  201,\n",
       "  204,\n",
       "  207,\n",
       "  210,\n",
       "  213,\n",
       "  216,\n",
       "  219,\n",
       "  222,\n",
       "  225,\n",
       "  228,\n",
       "  231,\n",
       "  234,\n",
       "  237,\n",
       "  240,\n",
       "  243,\n",
       "  246,\n",
       "  249,\n",
       "  252,\n",
       "  255,\n",
       "  258,\n",
       "  261,\n",
       "  264,\n",
       "  267,\n",
       "  270,\n",
       "  273,\n",
       "  276,\n",
       "  279,\n",
       "  282,\n",
       "  285,\n",
       "  288,\n",
       "  291,\n",
       "  294,\n",
       "  297],\n",
       " 'metrics.iteration': [0,\n",
       "  1,\n",
       "  2,\n",
       "  3,\n",
       "  4,\n",
       "  5,\n",
       "  6,\n",
       "  7,\n",
       "  8,\n",
       "  9,\n",
       "  10,\n",
       "  11,\n",
       "  12,\n",
       "  13,\n",
       "  14,\n",
       "  15,\n",
       "  16,\n",
       "  17,\n",
       "  18,\n",
       "  19,\n",
       "  20,\n",
       "  21,\n",
       "  22,\n",
       "  23,\n",
       "  24,\n",
       "  25,\n",
       "  26,\n",
       "  27,\n",
       "  28,\n",
       "  29,\n",
       "  30,\n",
       "  31,\n",
       "  32,\n",
       "  33,\n",
       "  34,\n",
       "  35,\n",
       "  36,\n",
       "  37,\n",
       "  38,\n",
       "  39,\n",
       "  40,\n",
       "  41,\n",
       "  42,\n",
       "  43,\n",
       "  44,\n",
       "  45,\n",
       "  46,\n",
       "  47,\n",
       "  48,\n",
       "  49,\n",
       "  50,\n",
       "  51,\n",
       "  52,\n",
       "  53,\n",
       "  54,\n",
       "  55,\n",
       "  56,\n",
       "  57,\n",
       "  58,\n",
       "  59,\n",
       "  60,\n",
       "  61,\n",
       "  62,\n",
       "  63,\n",
       "  64,\n",
       "  65,\n",
       "  66,\n",
       "  67,\n",
       "  68,\n",
       "  69,\n",
       "  70,\n",
       "  71,\n",
       "  72,\n",
       "  73,\n",
       "  74,\n",
       "  75,\n",
       "  76,\n",
       "  77,\n",
       "  78,\n",
       "  79,\n",
       "  80,\n",
       "  81,\n",
       "  82,\n",
       "  83,\n",
       "  84,\n",
       "  85,\n",
       "  86,\n",
       "  87,\n",
       "  88,\n",
       "  89,\n",
       "  90,\n",
       "  91,\n",
       "  92,\n",
       "  93,\n",
       "  94,\n",
       "  95,\n",
       "  96,\n",
       "  97,\n",
       "  98,\n",
       "  99],\n",
       " 'group_keys_val': 'adam',\n",
       " 'group_keys': 'name'}"
      ]
     },
     "execution_count": 32,
     "metadata": {},
     "output_type": "execute_result"
    }
   ],
   "source": [
    "gen_list[1]"
   ]
  },
  {
   "cell_type": "markdown",
   "id": "33de74c1",
   "metadata": {},
   "source": [
    "# Plotting results"
   ]
  },
  {
   "cell_type": "code",
   "execution_count": 17,
   "id": "9365b67f",
   "metadata": {},
   "outputs": [
    {
     "data": {
      "image/png": "[encoded data removed]",
      "text/plain": [
       "<Figure size 432x288 with 1 Axes>"
      ]
     },
     "metadata": {
      "needs_background": "light"
     },
     "output_type": "display_data"
    }
   ],
   "source": [
    "num_x =1\n",
    "num_y = 1\n",
    "fig, ax = plt.subplots(1,1, figsize=(6,4))\n",
    "\n",
    "\n",
    "for data in gen_list:\n",
    "    color = color_dict[data[\"group_keys_val\"]]\n",
    "    label = labels_dict[data[\"group_keys_val\"]]\n",
    "    ax.plot(data[\"metrics.loss_avg\"],data[\"metrics.iteration\"], color=color,label=label)\n",
    "\n",
    "\n",
    "\n",
    "\n"
   ]
  }
 ],
 "metadata": {
  "kernelspec": {
   "display_name": "Python 3 (ipykernel)",
   "language": "python",
   "name": "python3"
  },
  "language_info": {
   "codemirror_mode": {
    "name": "ipython",
    "version": 3
   },
   "file_extension": ".py",
   "mimetype": "text/x-python",
   "name": "python",
   "nbconvert_exporter": "python",
   "pygments_lexer": "ipython3",
   "version": "3.9.7"
  }
 },
 "nbformat": 4,
 "nbformat_minor": 5
}
